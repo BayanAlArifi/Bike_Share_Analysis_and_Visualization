{
 "cells": [
  {
   "cell_type": "markdown",
   "metadata": {},
   "source": [
    "# 2016 US Bike Share Activity Snapshot\n",
    "\n",
    "## Table of Contents\n",
    "- [Introduction](#intro)\n",
    "- [Posing Questions](#pose_questions)\n",
    "- [Data Collection and Wrangling](#wrangling)\n",
    "  - [Condensing the Trip Data](#condensing)\n",
    "- [Exploratory Data Analysis](#eda)\n",
    "  - [Statistics](#statistics)\n",
    "  - [Visualizations](#visualizations)\n",
    "- [Performing Your Own Analysis](#eda_continued)\n",
    "- [Conclusions](#conclusions)\n",
    "\n",
    "<a id='intro'></a>\n",
    "## Introduction\n",
    "\n",
    "Over the past decade, bicycle-sharing systems have been growing in number and popularity in cities across the world. Bicycle-sharing systems allow users to rent bicycles for short trips, typically 30 minutes or less. Thanks to the rise in information technologies, it is easy for a user of the system to access a dock within the system to unlock or return bicycles. These technologies also provide a wealth of data that can be used to explore how these bike-sharing systems are used.\n",
    "\n",
    "In this project, an exploratory analysis is performed on data provided by [Motivate](https://www.motivateco.com/), a bike-share system provider for many major cities in the United States. The system usage is compared between three large cities: New York City, Chicago, and Washington, DC. Any differences were investigated within each system for those users that are registered, regular users and those users that are short-term, casual users."
   ]
  },
  {
   "cell_type": "markdown",
   "metadata": {},
   "source": [
    "<a id='pose_questions'></a>\n",
    "## Posing Questions\n",
    "\n",
    "1. In which months of the year, people use bikes most/least, in each of the three cities?\n",
    "2. What is the porpotion of subscribers/customer in all the three cities?\n",
    "3. Which city has the highest user density? i.e. users / city area."
   ]
  },
  {
   "cell_type": "markdown",
   "metadata": {},
   "source": [
    "<a id='wrangling'></a>\n",
    "## Data Collection and Wrangling\n",
    "\n",
    "This project focuses on the record of individual trips taken in 2016 from our selected cities: New York City, Chicago, and Washington, DC. Each of these cities has a page where we can freely download the trip data.:\n",
    "\n",
    "- New York City (Citi Bike): [Link](https://www.citibikenyc.com/system-data)\n",
    "- Chicago (Divvy): [Link](https://www.divvybikes.com/system-data)\n",
    "- Washington, DC (Capital Bikeshare): [Link](https://www.capitalbikeshare.com/system-data)\n",
    "\n",
    "If you visit these pages, you will notice that each city has a different way of delivering its data. Chicago updates with new data twice a year, Washington DC is quarterly, and New York City is monthly. The data has already been collected, and can be found in the `/Data/` folder. While the original data for 2016 is spread among multiple files for each city, the files in the `/Data/` folder collect all of the trip data for the year into one file per city. Some data wrangling of inconsistencies in timestamp format within each city has already been performed. In addition, a random 2% sample of the original data is taken to make the exploration more manageable. "
   ]
  },
  {
   "cell_type": "code",
   "execution_count": 16,
   "metadata": {
    "collapsed": true
   },
   "outputs": [],
   "source": [
    "## import all necessary packages and functions.\n",
    "import csv # read and write csv files\n",
    "from datetime import datetime # operations to parse dates\n",
    "from pprint import pprint # use to print data structures like dictionaries in\n",
    "                          # a nicer way than the base print function."
   ]
  },
  {
   "cell_type": "code",
   "execution_count": 17,
   "metadata": {},
   "outputs": [
    {
     "name": "stdout",
     "output_type": "stream",
     "text": [
      "\n",
      "City: NYC\n",
      "First Trip: OrderedDict([('tripduration', '839'), ('starttime', '1/1/2016 00:09:55'), ('stoptime', '1/1/2016 00:23:54'), ('start station id', '532'), ('start station name', 'S 5 Pl & S 4 St'), ('start station latitude', '40.710451'), ('start station longitude', '-73.960876'), ('end station id', '401'), ('end station name', 'Allen St & Rivington St'), ('end station latitude', '40.72019576'), ('end station longitude', '-73.98997825'), ('bikeid', '17109'), ('usertype', 'Customer'), ('birth year', ''), ('gender', '0')])\n",
      "\n",
      "City: Chicago\n",
      "First Trip: OrderedDict([('trip_id', '9080545'), ('starttime', '3/31/2016 23:30'), ('stoptime', '3/31/2016 23:46'), ('bikeid', '2295'), ('tripduration', '926'), ('from_station_id', '156'), ('from_station_name', 'Clark St & Wellington Ave'), ('to_station_id', '166'), ('to_station_name', 'Ashland Ave & Wrightwood Ave'), ('usertype', 'Subscriber'), ('gender', 'Male'), ('birthyear', '1990')])\n",
      "\n",
      "City: Washington\n",
      "First Trip: OrderedDict([('Duration (ms)', '427387'), ('Start date', '3/31/2016 22:57'), ('End date', '3/31/2016 23:04'), ('Start station number', '31602'), ('Start station', 'Park Rd & Holmead Pl NW'), ('End station number', '31207'), ('End station', 'Georgia Ave and Fairmont St NW'), ('Bike number', 'W20842'), ('Member Type', 'Registered')])\n"
     ]
    }
   ],
   "source": [
    "def print_first_point(filename):\n",
    "    \"\"\"\n",
    "    This function prints and returns the first data point (second row) from\n",
    "    a csv file that includes a header row.\n",
    "    \"\"\"\n",
    "    # print city name for reference\n",
    "    city = filename.split('-')[0].split('/')[-1]\n",
    "    print('\\nCity: {}'.format(city))\n",
    "    \n",
    "    with open(filename, 'r') as f_in:\n",
    "        \"\"\"\n",
    "        If everything has been filled out correctly, you should see below the printout of each city name (which has been parsed from the data file name) that the first trip has been parsed in the form of a dictionary. When you set up a `DictReader` object, the first row of the data file is normally interpreted as column names. Every other row in the data file will use those column names as keys, as a dictionary is generated for each row.\n",
    "        This will be useful since we can refer to quantities by an easily-understandable label instead of just a numeric index. For example, if we have a trip stored in the variable `row`, then we would rather get the trip duration from `row['duration']` instead of `row[0]`.\n",
    "        \"\"\"\n",
    "        ## TODO: Use the csv library to set up a DictReader object. ##\n",
    "        ## see https://docs.python.org/3/library/csv.html           ##\n",
    "        trip_reader = csv.DictReader(f_in)\n",
    "        \n",
    "        ## TODO: Use a function on the DictReader object to read the     ##\n",
    "        ## first trip from the data file and store it in a variable.     ##\n",
    "        ## see https://docs.python.org/3/library/csv.html#reader-objects ##\n",
    "        first_trip = next(trip_reader)\n",
    "        print('First Trip: {}'.format(first_trip))\n",
    "        \n",
    "        ## TODO: Use the pprint library to print the first trip. ##\n",
    "        ## see https://docs.python.org/3/library/pprint.html     ##\n",
    "        \n",
    "    # output city name and first trip for later testing\n",
    "    return (city, first_trip)\n",
    "\n",
    "# list of files for each city\n",
    "data_files = ['./Data/NYC-CitiBike-2016.csv',\n",
    "              './Data/Chicago-Divvy-2016.csv',\n",
    "              './Data/Washington-CapitalBikeshare-2016.csv',]\n",
    "\n",
    "# print the first trip from each file, store in dictionary\n",
    "example_trips = {}\n",
    "for data_file in data_files:\n",
    "    city, first_trip = print_first_point(data_file)\n",
    "    example_trips[city] = first_trip"
   ]
  },
  {
   "cell_type": "markdown",
   "metadata": {},
   "source": [
    "<a id='condensing'></a>\n",
    "### Condensing the Trip Data\n",
    "\n",
    "It is observable that each city provides different information. Even where the information is the same, the column names and formats are sometimes different. To make things as simple as possible for the actual exploration, data was trimed and cleaned to makes sure that the data formats across the cities are consistent.\n",
    "\n",
    "New data files were generated with five values of interest for each trip: trip duration, starting month, starting hour, day of the week, and user type. Each of these may require additional wrangling depending on the city:\n",
    "\n",
    "- **Duration**: This has been given to us in seconds (New York, Chicago) or milliseconds (Washington). A more natural unit of analysis will be if all the trip durations are given in terms of minutes.\n",
    "- **Month**, **Hour**, **Day of Week**: Ridership volume is likely to change based on the season, time of day, and whether it is a weekday or weekend. Use the start time of the trip to obtain these values. The New York City data includes the seconds in their timestamps, while Washington and Chicago do not. The [`datetime`](https://docs.python.org/3/library/datetime.html) package will be very useful here to make the needed conversions.\n",
    "- **User Type**: It is possible that users who are subscribed to a bike-share system will have different patterns of use compared to users who only have temporary passes. Washington divides its users into two types: 'Registered' for users with annual, monthly, and other longer-term subscriptions, and 'Casual', for users with 24-hour, 3-day, and other short-term passes. The New York and Chicago data uses 'Subscriber' and 'Customer' for these groups, respectively. For consistency, you will convert the Washington labels to match the other two."
   ]
  },
  {
   "cell_type": "code",
   "execution_count": 18,
   "metadata": {
    "collapsed": true
   },
   "outputs": [],
   "source": [
    "def duration_in_mins(datum, city):\n",
    "    \"\"\"\n",
    "    Takes as input a dictionary containing info about a single trip (datum) and\n",
    "    its origin city (city) and returns the trip duration in units of minutes.\n",
    "    \n",
    "    Remember that Washington is in terms of milliseconds while Chicago and NYC\n",
    "    are in terms of seconds. \n",
    "    \n",
    "    HINT: The csv module reads in all of the data as strings, including numeric\n",
    "    values. You will need a function to convert the strings into an appropriate\n",
    "    numeric type when making your transformations.\n",
    "    see https://docs.python.org/3/library/functions.html\n",
    "    \"\"\"\n",
    "    \n",
    "    # YOUR CODE HERE\n",
    "    \n",
    "    if city == \"Washington\":\n",
    "        duration = float(datum['Duration (ms)']) / 1000 / 60\n",
    "    \n",
    "    else:\n",
    "        duration = float(datum['tripduration']) / 60\n",
    "        \n",
    "    return duration\n",
    "\n",
    "# Some tests to check that your code works. There should be no output if all of\n",
    "# the assertions pass. The `example_trips` dictionary was obtained from when\n",
    "# you printed the first trip from each of the original data files.\n",
    "tests = {'NYC': 13.9833,\n",
    "         'Chicago': 15.4333,\n",
    "         'Washington': 7.1231}\n",
    "\n",
    "for city in tests:\n",
    "    assert abs(duration_in_mins(example_trips[city], city) - tests[city]) < .001"
   ]
  },
  {
   "cell_type": "code",
   "execution_count": 19,
   "metadata": {
    "collapsed": true,
    "scrolled": true
   },
   "outputs": [],
   "source": [
    "def time_of_trip(datum, city):\n",
    "    \"\"\"\n",
    "    Takes as input a dictionary containing info about a single trip (datum) and\n",
    "    its origin city (city) and returns the month, hour, and day of the week in\n",
    "    which the trip was made.\n",
    "    \n",
    "    Remember that NYC includes seconds, while Washington and Chicago do not.\n",
    "    \n",
    "    HINT: You should use the datetime module to parse the original date\n",
    "    strings into a format that is useful for extracting the desired information.\n",
    "    see https://docs.python.org/3/library/datetime.html#strftime-and-strptime-behavior\n",
    "    \"\"\"\n",
    "    \n",
    "    # YOUR CODE HERE\n",
    "    from datetime import datetime\n",
    "\n",
    "    if city == \"NYC\":\n",
    "        datetime_object = datetime.strptime(datum['starttime'], '%m/%d/%Y %H:%M:%S') # '1/1/2016 00:09:55'\n",
    "    elif city == \"Chicago\":\n",
    "        datetime_object = datetime.strptime(datum['starttime'], '%m/%d/%Y %H:%M') # '3/31/2016 23:30'\n",
    "    else: # Washington\n",
    "        datetime_object = datetime.strptime(datum['Start date'], '%m/%d/%Y %H:%M') # '3/31/2016 22:57'\n",
    "        \n",
    "    hour = datetime_object.hour\n",
    "    day = datetime_object.day\n",
    "    month = datetime_object.month\n",
    "    year = datetime_object.year\n",
    "    \n",
    "    weekDays = (\"Monday\",\"Tuesday\",\"Wednesday\",\"Thursday\",\"Friday\",\"Saturday\",\"Sunday\")\n",
    "    day_of_week = datetime_object.weekday() # weekday number\n",
    "    day_of_week = weekDays[day_of_week] # weekday name\n",
    "\n",
    "    return (month, hour, day_of_week)\n",
    "\n",
    "# Some tests to check that your code works. There should be no output if all of\n",
    "# the assertions pass. The `example_trips` dictionary was obtained from when\n",
    "# you printed the first trip from each of the original data files.\n",
    "tests = {'NYC': (1, 0, 'Friday'),\n",
    "         'Chicago': (3, 23, 'Thursday'),\n",
    "         'Washington': (3, 22, 'Thursday')}\n",
    "\n",
    "for city in tests:\n",
    "    assert time_of_trip(example_trips[city], city) == tests[city]"
   ]
  },
  {
   "cell_type": "code",
   "execution_count": 20,
   "metadata": {
    "collapsed": true
   },
   "outputs": [],
   "source": [
    "def type_of_user(datum, city):\n",
    "    \"\"\"\n",
    "    Takes as input a dictionary containing info about a single trip (datum) and\n",
    "    its origin city (city) and returns the type of system user that made the\n",
    "    trip.\n",
    "    \n",
    "    Remember that Washington has different category names compared to Chicago\n",
    "    and NYC. \n",
    "    \"\"\"\n",
    "    \n",
    "    # YOUR CODE HERE\n",
    "    if city == \"Washington\":\n",
    "        user_type = datum['Member Type']\n",
    "        if user_type == 'Registered':\n",
    "            user_type = 'Subscriber'\n",
    "        else:\n",
    "            user_type = 'Customer'\n",
    "        \n",
    "    else: # Chicago and NYC\n",
    "        user_type = datum['usertype']\n",
    "        \n",
    "    return user_type\n",
    "\n",
    "\n",
    "# Some tests to check that your code works. There should be no output if all of\n",
    "# the assertions pass. The `example_trips` dictionary was obtained from when\n",
    "# you printed the first trip from each of the original data files.\n",
    "tests = {'NYC': 'Customer',\n",
    "         'Chicago': 'Subscriber',\n",
    "         'Washington': 'Subscriber'}\n",
    "\n",
    "for city in tests:\n",
    "    assert type_of_user(example_trips[city], city) == tests[city]"
   ]
  },
  {
   "cell_type": "markdown",
   "metadata": {},
   "source": [
    "The helper functions above are used to create a condensed data file for each city consisting only of the data fields indicated above. In the `/examples/` folder, you will see an example datafile from the [Bay Area Bike Share](http://www.bayareabikeshare.com/open-data) before and after conversion."
   ]
  },
  {
   "cell_type": "code",
   "execution_count": 21,
   "metadata": {
    "collapsed": true
   },
   "outputs": [],
   "source": [
    "def condense_data(in_file, out_file, city):\n",
    "    \"\"\"\n",
    "    This function takes full data from the specified input file\n",
    "    and writes the condensed data to a specified output file. The city\n",
    "    argument determines how the input file will be parsed.\n",
    "    \n",
    "    HINT: See the cell below to see how the arguments are structured!\n",
    "    \"\"\"\n",
    "    \n",
    "    with open(out_file, 'w') as f_out, open(in_file, 'r') as f_in:\n",
    "        # set up csv DictWriter object - writer requires column names for the\n",
    "        # first row as the \"fieldnames\" argument\n",
    "        out_colnames = ['duration', 'month', 'hour', 'day_of_week', 'user_type']        \n",
    "        trip_writer = csv.DictWriter(f_out, fieldnames = out_colnames)\n",
    "        trip_writer.writeheader()\n",
    "        \n",
    "        ## TODO: set up csv DictReader object ##\n",
    "        trip_reader = csv.DictReader(f_in)\n",
    "\n",
    "        # collect data from and process each row\n",
    "        for row in trip_reader:\n",
    "            # set up a dictionary to hold the values for the cleaned and trimmed\n",
    "            # data point\n",
    "            month, hour, day_of_week = time_of_trip(row, city)\n",
    "            new_point = trip_writer.writerow({'duration': duration_in_mins(row, city), 'month': month,\n",
    "                                              'hour': hour, 'day_of_week': day_of_week,\n",
    "                                              'user_type': type_of_user(row, city)})\n",
    "            ## TODO: use the helper functions to get the cleaned data from  ##\n",
    "            ## the original data dictionaries.                              ##\n",
    "            ## Note that the keys for the new_point dictionary should match ##\n",
    "            ## the column names set in the DictWriter object above.         ##\n",
    "\n",
    "            ## TODO: write the processed information to the output file.     ##\n",
    "            ## see https://docs.python.org/3/library/csv.html#writer-objects ##"
   ]
  },
  {
   "cell_type": "code",
   "execution_count": 22,
   "metadata": {},
   "outputs": [
    {
     "name": "stdout",
     "output_type": "stream",
     "text": [
      "\n",
      "City: Washington\n",
      "First Trip: OrderedDict([('duration', '7.123116666666666'), ('month', '3'), ('hour', '22'), ('day_of_week', 'Thursday'), ('user_type', 'Subscriber')])\n",
      "\n",
      "City: Chicago\n",
      "First Trip: OrderedDict([('duration', '15.433333333333334'), ('month', '3'), ('hour', '23'), ('day_of_week', 'Thursday'), ('user_type', 'Subscriber')])\n",
      "\n",
      "City: NYC\n",
      "First Trip: OrderedDict([('duration', '13.983333333333333'), ('month', '1'), ('hour', '0'), ('day_of_week', 'Friday'), ('user_type', 'Customer')])\n"
     ]
    }
   ],
   "source": [
    "# Run this cell to check your work\n",
    "city_info = {'Washington': {'in_file': './Data/Washington-CapitalBikeshare-2016.csv',\n",
    "                            'out_file': './Data/Washington-2016-Summary.csv'},\n",
    "             'Chicago': {'in_file': './Data/Chicago-Divvy-2016.csv',\n",
    "                         'out_file': './Data/Chicago-2016-Summary.csv'},\n",
    "             'NYC': {'in_file': './Data/NYC-CitiBike-2016.csv',\n",
    "                     'out_file': './Data/NYC-2016-Summary.csv'}}\n",
    "\n",
    "for city, filenames in city_info.items():\n",
    "    condense_data(filenames['in_file'], filenames['out_file'], city)\n",
    "    print_first_point(filenames['out_file'])"
   ]
  },
  {
   "cell_type": "markdown",
   "metadata": {},
   "source": [
    "<a id='eda'></a>\n",
    "## Exploratory Data Analysis\n",
    "\n",
    "An initial exploration into the data where descriptive statistics are computed. The relative volume of trips made between three U.S. cities and the ratio of trips made by Subscribers and Customers are compared. For one of these cities, differences between Subscribers and Customers in terms of how long a typical trip lasts have been investigated.\n",
    "\n",
    "<a id='statistics'></a>\n",
    "### Statistics\n",
    "\n",
    "Which city has the highest number of trips? Which city has the highest proportion of trips made by subscribers? Which city has the highest proportion of trips made by short-term customers?\n",
    "\n",
    "**NYC** has the highest number of trips (276798).\n",
    "\n",
    "**NYC** has the highest proportion of trips made by subscribers (245896).\n",
    "\n",
    "**NYC** has the highest proportion of trips made by short-term customers (30902).\n",
    "\n",
    "* Washington_number_of_trips\n",
    "(51753, 14573, 66326)\n",
    "\n",
    "* Chicago_number_of_trips\n",
    "(54982, 17149, 72131)\n",
    "\n",
    "* NYC_number_of_trips\n",
    "(245896, 30902, 276798)"
   ]
  },
  {
   "cell_type": "code",
   "execution_count": 23,
   "metadata": {
    "collapsed": true
   },
   "outputs": [],
   "source": [
    "def number_of_trips(filename):\n",
    "    \"\"\"\n",
    "    This function reads in a file with trip data and reports the number of\n",
    "    trips made by subscribers, customers, and total overall.\n",
    "    \"\"\"\n",
    "    \"\"\"\n",
    "    The first cell below contains a function that uses the csv module to iterate through a provided data file, returning the number of trips made by subscribers and customers.\n",
    "    \"\"\"\n",
    "    with open(filename, 'r') as f_in:\n",
    "        # set up csv reader object\n",
    "        reader = csv.DictReader(f_in)\n",
    "        \n",
    "        # initialize count variables\n",
    "        n_subscribers = 0\n",
    "        n_customers = 0\n",
    "        \n",
    "        # tally up ride types\n",
    "        for row in reader:\n",
    "            if row['user_type'] == 'Subscriber':\n",
    "                n_subscribers += 1\n",
    "            else:\n",
    "                n_customers += 1\n",
    "        \n",
    "        # compute total number of rides\n",
    "        n_total = n_subscribers + n_customers\n",
    "        \n",
    "        # return tallies as a tuple\n",
    "        return(n_subscribers, n_customers, n_total)"
   ]
  },
  {
   "cell_type": "code",
   "execution_count": 24,
   "metadata": {},
   "outputs": [
    {
     "name": "stdout",
     "output_type": "stream",
     "text": [
      "Washington_number_of_trips\n",
      "(51753, 14573, 66326)\n",
      "Chicago_number_of_trips\n",
      "(54982, 17149, 72131)\n",
      "NYC_number_of_trips\n",
      "(245896, 30902, 276798)\n"
     ]
    }
   ],
   "source": [
    "\"\"\"\n",
    "The second cell runs this function on the example Bay Area data in the `/examples/` folder. Modify the cells to answer the question below.\n",
    "\"\"\"\n",
    "\n",
    "## Modify this and the previous cell to answer Question 4a. Remember to run ##\n",
    "## the function on the cleaned data files you created from Question 3.      ##\n",
    "\n",
    "Washington_data_file = './Data/Washington-2016-Summary.csv'\n",
    "print(\"Washington_number_of_trips\")\n",
    "print(number_of_trips(Washington_data_file))\n",
    "\n",
    "Chicago_data_file = './Data/Chicago-2016-Summary.csv'\n",
    "print(\"Chicago_number_of_trips\")\n",
    "print(number_of_trips(Chicago_data_file))\n",
    "\n",
    "NYC_data_file = './Data/NYC-2016-Summary.csv'\n",
    "print(\"NYC_number_of_trips\")\n",
    "print(number_of_trips(NYC_data_file))"
   ]
  },
  {
   "cell_type": "markdown",
   "metadata": {},
   "source": [
    "Bike-share systems are designed for riders to take short trips. Most of the time, users are allowed to take trips of 30 minutes or less with no additional charges, with overage charges made for trips of longer than that duration. What is the average trip length for each city? What proportion of rides made in each city are longer than 30 minutes?\n",
    "\n",
    "**Washington**\n",
    "* Washington_total_min:  925382\n",
    "* Washington_number_of_trips:  66326\n",
    "* Washington_avg_trp_leng:  13.952024846968007\n",
    "* Washington_30min_prop:  0.10838886711093688\n",
    "\n",
    "**Chicago**\n",
    "* Chicago_total_min:  992921\n",
    "* Chicago_number_of_trips:  72131\n",
    "* Chicago_avg_trp_leng:  13.765523838571488\n",
    "* Chicago_30min_prop:  0.08332062497400562\n",
    "\n",
    "**NYC**\n",
    "* NYC_total_min:  3846660\n",
    "* NYC_number_of_trips:  276798\n",
    "* NYC_avg_trp_leng:  13.896993475386383\n",
    "* NYC_30min_prop:  0.07302437156337835"
   ]
  },
  {
   "cell_type": "code",
   "execution_count": 25,
   "metadata": {
    "scrolled": true
   },
   "outputs": [
    {
     "name": "stdout",
     "output_type": "stream",
     "text": [
      "Washington_total_min:  925382\n",
      "Washington_number_of_trips:  66326\n",
      "Washington_avg_trp_leng:  13.952024846968007\n",
      "Washington_30min_prop:  0.10838886711093688\n",
      "\n",
      "Chicago_total_min:  992921\n",
      "Chicago_number_of_trips:  72131\n",
      "Chicago_avg_trp_leng:  13.765523838571488\n",
      "Chicago_30min_prop:  0.08332062497400562\n",
      "\n",
      "NYC_total_min:  3846660\n",
      "NYC_number_of_trips:  276798\n",
      "NYC_avg_trp_leng:  13.896993475386383\n",
      "NYC_30min_prop:  0.07302437156337835\n"
     ]
    }
   ],
   "source": [
    "## Use this and additional cells to answer Question 4b.                 ##\n",
    "##                                                                      ##\n",
    "## HINT: The csv module reads in all of the data as strings, including  ##\n",
    "## numeric values. You will need a function to convert the strings      ##\n",
    "## into an appropriate numeric type before you aggregate data.          ##\n",
    "## TIP: For the Bay Area example, the average trip length is 14 minutes ##\n",
    "## and 3.5% of trips are longer than 30 minutes.                        ##\n",
    "\n",
    "## Washington ##\n",
    "with open(Washington_data_file, 'r') as f_in:\n",
    "        # set up csv reader object\n",
    "        reader = csv.DictReader(f_in)\n",
    "        \n",
    "        Washington_total_min = 0\n",
    "        Washington_30min_trp = 0\n",
    "        for row in reader:\n",
    "            Washington_total_min += int(row['hour'])\n",
    "            if float(row['duration']) > 30:\n",
    "                Washington_30min_trp += 1\n",
    "            \n",
    "subscribers, customers, Washington_number_of_trips = number_of_trips(Washington_data_file)\n",
    "Washington_number_of_trips = int(Washington_number_of_trips)\n",
    "\n",
    "Washington_avg_trp_leng = Washington_total_min / Washington_number_of_trips\n",
    "\n",
    "Washington_30min_prop = Washington_30min_trp / Washington_number_of_trips\n",
    "\n",
    "print(\"Washington_total_min: \", Washington_total_min)\n",
    "print(\"Washington_number_of_trips: \", Washington_number_of_trips)\n",
    "print(\"Washington_avg_trp_leng: \", Washington_avg_trp_leng)\n",
    "print(\"Washington_30min_prop: \", Washington_30min_prop)\n",
    "\n",
    "\n",
    "## Chicago ##\n",
    "with open(Chicago_data_file, 'r') as f_in:\n",
    "        # set up csv reader object\n",
    "        reader = csv.DictReader(f_in)\n",
    "        \n",
    "        Chicago_total_min = 0\n",
    "        Chicago_30min_trp = 0\n",
    "        for row in reader:\n",
    "            Chicago_total_min += int(row['hour'])\n",
    "            if float(row['duration']) > 30:\n",
    "                Chicago_30min_trp += 1\n",
    "                \n",
    "subscribers, customers, Chicago_number_of_trips = number_of_trips(Chicago_data_file)\n",
    "Chicago_number_of_trips = int(Chicago_number_of_trips)\n",
    "\n",
    "Chicago_avg_trp_leng = Chicago_total_min / Chicago_number_of_trips\n",
    "\n",
    "Chicago_30min_prop = Chicago_30min_trp / Chicago_number_of_trips\n",
    "\n",
    "print(\"\\nChicago_total_min: \", Chicago_total_min)\n",
    "print(\"Chicago_number_of_trips: \", Chicago_number_of_trips)\n",
    "print(\"Chicago_avg_trp_leng: \", Chicago_avg_trp_leng)\n",
    "print(\"Chicago_30min_prop: \", Chicago_30min_prop)\n",
    "\n",
    "\n",
    "## NYC ##\n",
    "with open(NYC_data_file, 'r') as f_in:\n",
    "        # set up csv reader object\n",
    "        reader = csv.DictReader(f_in)\n",
    "        \n",
    "        NYC_total_min = 0\n",
    "        NYC_30min_trp = 0\n",
    "        for row in reader:\n",
    "            NYC_total_min += int(row['hour'])\n",
    "            if float(row['duration']) > 30:\n",
    "                NYC_30min_trp += 1\n",
    "            \n",
    "subscribers, customers, NYC_number_of_trips = number_of_trips(NYC_data_file)\n",
    "NYC_number_of_trips = int(NYC_number_of_trips)\n",
    "\n",
    "NYC_avg_trp_leng = NYC_total_min / NYC_number_of_trips\n",
    "\n",
    "NYC_30min_prop = NYC_30min_trp / NYC_number_of_trips\n",
    "\n",
    "print(\"\\nNYC_total_min: \", NYC_total_min)\n",
    "print(\"NYC_number_of_trips: \", int(NYC_number_of_trips))\n",
    "print(\"NYC_avg_trp_leng: \", NYC_avg_trp_leng)\n",
    "print(\"NYC_30min_prop: \", NYC_30min_prop)"
   ]
  },
  {
   "cell_type": "markdown",
   "metadata": {},
   "source": [
    "Digging deeper into the question of trip duration based on ridership. Within that city of Washington for example, which type of user takes longer rides on average: Subscribers or Customers?\n",
    "\n",
    "**Washington**'s customers take longer rides on average (41.67803139252976) compared to its subscribers (12.528120499294745)."
   ]
  },
  {
   "cell_type": "code",
   "execution_count": 26,
   "metadata": {},
   "outputs": [
    {
     "name": "stdout",
     "output_type": "stream",
     "text": [
      "Washington's customers take longer rides on average (41.67803139252976) compared to its subscribers.\n"
     ]
    }
   ],
   "source": [
    "## Use this and additional cells to answer Question 4c. If you have    ##\n",
    "## not done so yet, consider revising some of your previous code to    ##\n",
    "## make use of functions for reusability.                              ##\n",
    "##                                                                     ##\n",
    "## TIP: For the Bay Area example data, you should find the average     ##\n",
    "## Subscriber trip duration to be 9.5 minutes and the average Customer ##\n",
    "## trip duration to be 54.6 minutes. Do the other cities have this     ##\n",
    "## level of difference?                                                ##\n",
    "\n",
    "## Washington ##\n",
    "with open(Washington_data_file, 'r') as f_in:\n",
    "        # set up csv reader object\n",
    "        reader = csv.DictReader(f_in)\n",
    "\n",
    "        W_subscribers, W_customers, W_trips = number_of_trips(Washington_data_file)\n",
    "        \n",
    "        W__S_total_min = 0\n",
    "        W__C_total_min = 0\n",
    "        Washington_30min_trp = 0\n",
    "        \n",
    "        for row in reader:\n",
    "            if row['user_type'] == 'Subscriber':\n",
    "                W__S_total_min += float(row['duration'])\n",
    "            else:\n",
    "                W__C_total_min += float(row['duration'])\n",
    "                \n",
    "        W_S_avg = W__S_total_min / W_subscribers\n",
    "        W_C_avg = W__C_total_min / W_customers\n",
    "        \n",
    "        if W_S_avg > W_C_avg:\n",
    "            print ('Washington\\'s subscribers take longer rides on average (' + str(W_S_avg) + ') compared to its customers.' )\n",
    "        elif W_S_avg < W_C_avg:\n",
    "            print ('Washington\\'s customers take longer rides on average (' + str(W_C_avg) + ') compared to its subscribers.' )\n",
    "        else:\n",
    "            print ('Washington\\'s subscribers and customer are equal in their average trip durations (' + str(W_S_avg) + ') compared to its customers.' )"
   ]
  },
  {
   "cell_type": "markdown",
   "metadata": {},
   "source": [
    "<a id='visualizations'></a>\n",
    "### Visualizations\n",
    "\n",
    "The last set of values computed have pulled an interesting result. While the mean trip time for Subscribers is well under 30 minutes, the mean trip time for Customers is actually _above_ 30 minutes! How the trip times are distributed is plotted."
   ]
  },
  {
   "cell_type": "code",
   "execution_count": 27,
   "metadata": {},
   "outputs": [
    {
     "data": {
      "image/png": "[encoded data removed]",
      "text/plain": [
       "<matplotlib.figure.Figure at 0x7f855779f5f8>"
      ]
     },
     "metadata": {
      "needs_background": "light"
     },
     "output_type": "display_data"
    }
   ],
   "source": [
    "# load library\n",
    "import matplotlib.pyplot as plt\n",
    "import pandas as pd\n",
    "import numpy as np\n",
    "\n",
    "# this is a 'magic word' that allows for plots to be displayed\n",
    "# inline with the notebook. If you want to know more, see:\n",
    "# http://ipython.readthedocs.io/en/stable/interactive/magics.html\n",
    "%matplotlib inline \n",
    "\n",
    "# example histogram, data taken from bay area sample\n",
    "data = [ 7.65,  8.92,  7.42,  5.50, 16.17,  4.20,  8.98,  9.62, 11.48, 14.33,\n",
    "        19.02, 21.53,  3.90,  7.97,  2.62,  2.67,  3.08, 14.40, 12.90,  7.83,\n",
    "        25.12,  8.30,  4.93, 12.43, 10.60,  6.17, 10.88,  4.78, 15.15,  3.53,\n",
    "         9.43, 13.32, 11.72,  9.85,  5.22, 15.10,  3.95,  3.17,  8.78,  1.88,\n",
    "         4.55, 12.68, 12.38,  9.78,  7.63,  6.45, 17.38, 11.90, 11.52,  8.63,]\n",
    "plt.hist(data)\n",
    "plt.title('Distribution of Trip Durations')\n",
    "plt.xlabel('Duration (m)')\n",
    "plt.show()"
   ]
  },
  {
   "cell_type": "markdown",
   "metadata": {},
   "source": [
    "In the above cell, fifty trip times are collected in a list, and passed this list as the first argument to the `.hist()` function. This function performs the computations and creates plotting objects for generating a histogram, but the plot is actually not rendered until the `.show()` function is executed. The `.title()` and `.xlabel()` functions provide some labeling for plot context.\n",
    "\n",
    "These functions are used to create a histogram of the trip times for the city previously selected."
   ]
  },
  {
   "cell_type": "code",
   "execution_count": 28,
   "metadata": {},
   "outputs": [
    {
     "data": {
      "image/png": "[encoded data removed]",
      "text/plain": [
       "<matplotlib.figure.Figure at 0x7f855779fb70>"
      ]
     },
     "metadata": {
      "needs_background": "light"
     },
     "output_type": "display_data"
    }
   ],
   "source": [
    "## Use this and additional cells to collect all of the trip times as a list ##\n",
    "## and then use pyplot functions to generate a histogram of trip times.     ##\n",
    "\n",
    "with open(Washington_data_file, 'r') as f_in:\n",
    "    # set up csv reader object\n",
    "    reader = csv.DictReader(f_in)\n",
    "    \n",
    "    data = []\n",
    "    for row in reader:\n",
    "        duration = float(row['duration'])\n",
    "        data.append(\"%2.f\" % duration)\n",
    "\n",
    "plt.hist(data)\n",
    "plt.title('Distribution of Washington Trip Durations')\n",
    "plt.xlabel('Trip Duration (m)')\n",
    "plt.show()"
   ]
  },
  {
   "cell_type": "markdown",
   "metadata": {},
   "source": [
    "The plot is completely unexpected. The plot consists of one extremely tall bar on the left, maybe a very short second bar, and a whole lot of empty space in the center and right. Take a look at the duration values on the x-axis. This suggests that there are some highly infrequent outliers in the data. Instead of reprocessing the data, additional parameters are used with the `.hist()` function to limit the range of data that is plotted. Documentation for the function can be found [[here]](https://matplotlib.org/devdocs/api/_as_gen/matplotlib.pyplot.hist.html#matplotlib.pyplot.hist).\n",
    "\n",
    "The parameters of the `.hist()` function are used to plot the distribution of trip times for the Subscribers in the previously selected city. The same thing is done for only the Customers. Limits are added to the plots so that only trips of duration less than 75 minutes are plotted. The plots are setup so that bars are in five-minute wide intervals.\n",
    "\n",
    "For each group, where is the peak of each distribution? How would you describe the shape of each distribution?\n",
    "\n",
    "The trip duration distribution of **Washington Subscribers** peaks at 5-10 minutes and the shape of it is skewed to the right. On the other hand, **Washington Customers** trip duration peaks at 15-20 minutes, and the shape of the distribution is closer to a normal distribution, i.e. bell-shape compared to the former."
   ]
  },
  {
   "cell_type": "code",
   "execution_count": 29,
   "metadata": {
    "collapsed": true
   },
   "outputs": [],
   "source": [
    "## Use this and additional cells to answer Question 5. ##\n",
    "\n",
    "with open(Washington_data_file, 'r') as f_in:\n",
    "    # set up csv reader object\n",
    "    W_reader = csv.DictReader(f_in)\n",
    "    \n",
    "    W_S_data = []\n",
    "    W_C_data = []\n",
    "    for row in W_reader:\n",
    "        duration = float(row['duration'])\n",
    "        if duration < 75:\n",
    "            if row['user_type'] == 'Subscriber':\n",
    "                W_S_data.append(\"%2.f\" % duration)\n",
    "            else:\n",
    "                W_C_data.append(\"%2.f\" % duration)\n",
    "\n",
    "bins = np.arange(0,75,5) # numpy.arange(interval start, interval stop, step, i.e. spacing between values)\n",
    "locations = bins + 5\n",
    "labels = ['5','10','15','20','25','30','35','40','45','50','55,''60','65','70','75']"
   ]
  },
  {
   "cell_type": "code",
   "execution_count": 30,
   "metadata": {},
   "outputs": [
    {
     "data": {
      "image/png": "[encoded data removed]",
      "text/plain": [
       "<matplotlib.figure.Figure at 0x7f85577ad9b0>"
      ]
     },
     "metadata": {
      "needs_background": "light"
     },
     "output_type": "display_data"
    }
   ],
   "source": [
    "# Plotting Subscribers\n",
    "plt.hist(W_S_data, bins, facecolor='green')\n",
    "plt.xticks(locations, labels)\n",
    "plt.title('Distribution of Washington Subscribers\\' Trip Durations')\n",
    "plt.xlabel('Trip Duration')\n",
    "plt.show()"
   ]
  },
  {
   "cell_type": "code",
   "execution_count": 31,
   "metadata": {},
   "outputs": [
    {
     "data": {
      "image/png": "[encoded data removed]",
      "text/plain": [
       "<matplotlib.figure.Figure at 0x7f85458450f0>"
      ]
     },
     "metadata": {
      "needs_background": "light"
     },
     "output_type": "display_data"
    }
   ],
   "source": [
    "# Plotting Customers\n",
    "plt.hist(W_C_data, bins, facecolor='red')\n",
    "plt.xticks(locations, labels)\n",
    "plt.title('Distribution of Washington Customers\\' Trip Durations')\n",
    "plt.xlabel('Trip Duration')\n",
    "plt.show()"
   ]
  },
  {
   "cell_type": "markdown",
   "metadata": {
    "collapsed": true
   },
   "source": [
    "<a id='eda_continued'></a>\n",
    "## Performing Your Own Analysis\n",
    "\n",
    "The following questions are investigated and visualized.\n",
    "1. In which months of the year, people use bikes most/least, in each city?\n",
    "2. What is the porpotion of subscribers/customer in all the three cities?\n",
    "\n",
    "To-be Explored:\n",
    "- How does ridership differ by month or season? Which month / season has the highest ridership? Does the ratio of Subscriber trips to Customer trips change depending on the month or season?\n",
    "- Is the pattern of ridership different on the weekends versus weekdays? On what days are Subscribers most likely to use the system? What about Customers? Does the average duration of rides change depending on the day of the week?\n",
    "- During what time of day is the system used the most? Is there a difference in usage patterns for Subscribers and Customers?"
   ]
  },
  {
   "cell_type": "markdown",
   "metadata": {},
   "source": [
    "**1. In which months of the year, people use bikes most/least, in each city?**\n",
    "\n",
    "In **Washington**, bikes are used the most in July, and the least in January.\n",
    "   \n",
    "In **Chicago**, bikes are used the most in July, and the least in December.\n",
    "\n",
    "In **NYC**, bikes are used the most in September, and the least in January."
   ]
  },
  {
   "cell_type": "code",
   "execution_count": 32,
   "metadata": {
    "collapsed": true
   },
   "outputs": [],
   "source": [
    "## Use this and additional cells to continue to explore the dataset. ##\n",
    "## Once you have performed your exploration, document your findings  ##\n",
    "## in the Markdown cell above.                                       ##\n",
    "## Use this and additional cells to answer Question 5. ##\n",
    "\n",
    "# Collecting Data\n",
    "W_data = pd.read_csv('./Data/Washington-2016-Summary.csv')\n",
    "C_data = pd.read_csv('./Data/Chicago-2016-Summary.csv')\n",
    "N_data = pd.read_csv('./Data/NYC-2016-Summary.csv') "
   ]
  },
  {
   "cell_type": "code",
   "execution_count": 33,
   "metadata": {},
   "outputs": [
    {
     "data": {
      "text/plain": [
       "<matplotlib.axes._subplots.AxesSubplot at 0x7f85457dc6d8>"
      ]
     },
     "execution_count": 33,
     "metadata": {},
     "output_type": "execute_result"
    },
    {
     "data": {
      "image/png": "[encoded data removed]",
      "text/plain": [
       "<matplotlib.figure.Figure at 0x7f85457fd860>"
      ]
     },
     "metadata": {
      "needs_background": "light"
     },
     "output_type": "display_data"
    }
   ],
   "source": [
    "# Plotting Data\n",
    "W_data = W_data.groupby(['month']).count()['user_type']\n",
    "C_data = C_data.groupby(['month']).count()['user_type']\n",
    "N_data = N_data.groupby(['month']).count()['user_type']\n",
    "#Washington = pd.Series(W_data)\n",
    "\n",
    "W_data.plot()\n",
    "C_data.plot()\n",
    "N_data.plot()"
   ]
  },
  {
   "cell_type": "code",
   "execution_count": 34,
   "metadata": {},
   "outputs": [
    {
     "name": "stdout",
     "output_type": "stream",
     "text": [
      "In Washington, bikes are used the most in 7, and the least in 1.\n",
      "In Chicagoashington, bikes are used the most in 7, and the least in 12.\n",
      "In NYC, bikes are used the most in 9, and the least in 1.\n"
     ]
    }
   ],
   "source": [
    "# Printing Results\n",
    "\n",
    "W_data = W_data.sort_values()\n",
    "print('In Washington, bikes are used the most in {}, and the least in {}.'\n",
    "      .format(W_data[W_data == W_data.iloc[11]].index[0], W_data[W_data == W_data.iloc[0]].index[0]))\n",
    "\n",
    "C_data = C_data.sort_values()\n",
    "print('In Chicagoashington, bikes are used the most in {}, and the least in {}.'\n",
    "      .format(C_data[C_data == C_data.iloc[11]].index[0], C_data[C_data == C_data.iloc[0]].index[0]))\n",
    "\n",
    "N_data = N_data.sort_values()\n",
    "print('In NYC, bikes are used the most in {}, and the least in {}.'\n",
    "      .format(N_data[N_data == N_data.iloc[11]].index[0], N_data[N_data == N_data.iloc[0]].index[0]))"
   ]
  },
  {
   "cell_type": "markdown",
   "metadata": {},
   "source": [
    "**2. What is the porpotion of subscribers/customer in all the three cities?**\n",
    "\n",
    "**NYC** has the highest number of Users (276798), where most of them are Subscribers (245896), and very few are Customers (30902).\n",
    "\n",
    "**Chicago** comes second after NYC in its number of Users (72131), where most of them are Subscribers (54982), and a few are Customers (17149).\n",
    "\n",
    "**Washington** has the least number of Users (66326), where most of them are Subscribers 51753, and a few are Customers 14573."
   ]
  },
  {
   "cell_type": "code",
   "execution_count": 35,
   "metadata": {
    "collapsed": true
   },
   "outputs": [],
   "source": [
    "# Collecting Data\n",
    "\n",
    "Washington_data = './Data/Washington-2016-Summary.csv'\n",
    "Washington_S, Washington_C, Washington_T = number_of_trips(Washington_data)\n",
    "\n",
    "Chicago_data = './Data/Chicago-2016-Summary.csv'\n",
    "Chicago_S, Chicago_C, Chicago_T = number_of_trips(Chicago_data)\n",
    "\n",
    "NYC_data = './Data/NYC-2016-Summary.csv'\n",
    "NYC_S, NYC_C, NYC_T = number_of_trips(NYC_data)\n",
    "\n",
    "Washington = pd.Series([Washington_T, Washington_S, Washington_C], [0,1,2])\n",
    "Chicago = pd.Series([Chicago_T, Chicago_S, Chicago_C], [0,1,2])\n",
    "NYC = pd.Series([NYC_T, NYC_S, NYC_C], [0,1,2])"
   ]
  },
  {
   "cell_type": "code",
   "execution_count": 36,
   "metadata": {},
   "outputs": [
    {
     "data": {
      "text/plain": [
       "Text(0.5,1,'Number of Users (1-3), Customers (4-6) and Subscribers (7-9) in NYC, Chicago and Washington')"
      ]
     },
     "execution_count": 36,
     "metadata": {},
     "output_type": "execute_result"
    },
    {
     "data": {
      "image/png": "[encoded data removed]",
      "text/plain": [
       "<matplotlib.figure.Figure at 0x7f8545e4f668>"
      ]
     },
     "metadata": {
      "needs_background": "light"
     },
     "output_type": "display_data"
    }
   ],
   "source": [
    "# plotting data\n",
    "\n",
    "plt.bar([1,4,7], Washington, color='r', label = 'Washington')\n",
    "plt.bar([2,5,8], Chicago, color='g', label = 'Chicago')\n",
    "plt.bar([3,6,9], NYC, color='b', label = 'NYC')\n",
    "plt.legend()\n",
    "plt.title('Number of Users (1-3), Customers (4-6) and Subscribers (7-9) in NYC, Chicago and Washington')"
   ]
  },
  {
   "cell_type": "code",
   "execution_count": 37,
   "metadata": {},
   "outputs": [
    {
     "name": "stdout",
     "output_type": "stream",
     "text": [
      "Washington: \n",
      "Users 66326, Subscribers 51753, Customers 14573\n",
      "Chicago: \n",
      "Users 72131, Subscribers 54982, Customers 17149\n",
      "NYC: \n",
      "Users 276798, Subscribers 245896, Customers 30902\n"
     ]
    }
   ],
   "source": [
    "# Printing Results\n",
    "\n",
    "print('Washington: \\nUsers {}, Subscribers {}, Customers {}'.format(Washington_T, Washington_S, Washington_C))\n",
    "print('Chicago: \\nUsers {}, Subscribers {}, Customers {}'.format(Chicago_T, Chicago_S, Chicago_C))\n",
    "print('NYC: \\nUsers {}, Subscribers {}, Customers {}'.format(NYC_T, NYC_S, NYC_C))"
   ]
  },
  {
   "cell_type": "markdown",
   "metadata": {},
   "source": [
    "<a id='conclusions'></a>\n",
    "## Conclusions\n",
    "\n",
    "Conclusions about the data are drwan by performing a statistical test or fitting the data to a model for making predictions. There are also a lot of potential analyses that could be performed on the data which are not possible with only the data provided. For example, detailed location data has not been investigated.\n",
    "* Where are the most commonly used docks?\n",
    "* What are the most common routes?\n",
    "As another example, weather has potential to have a large impact on daily ridership.\n",
    "* How much is ridership impacted when there is rain or snow?\n",
    "* Are subscribers or customers affected more by changes in weather?"
   ]
  },
  {
   "cell_type": "code",
   "execution_count": 38,
   "metadata": {},
   "outputs": [
    {
     "data": {
      "text/plain": [
       "0"
      ]
     },
     "execution_count": 38,
     "metadata": {},
     "output_type": "execute_result"
    }
   ],
   "source": [
    "from subprocess import call\n",
    "call(['python', '-m', 'nbconvert', 'Bike_Share_Analysis.ipynb'])"
   ]
  }
 ],
 "metadata": {
  "anaconda-cloud": {},
  "kernelspec": {
   "display_name": "Python 3",
   "language": "python",
   "name": "python3"
  },
  "language_info": {
   "codemirror_mode": {
    "name": "ipython",
    "version": 3
   },
   "file_extension": ".py",
   "mimetype": "text/x-python",
   "name": "python",
   "nbconvert_exporter": "python",
   "pygments_lexer": "ipython3",
   "version": "3.6.3"
  }
 },
 "nbformat": 4,
 "nbformat_minor": 1
}
